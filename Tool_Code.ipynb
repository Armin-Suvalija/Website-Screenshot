{
 "cells": [
  {
   "cell_type": "code",
   "execution_count": null,
   "metadata": {},
   "outputs": [],
   "source": [
    "pip install selenium"
   ]
  },
  {
   "cell_type": "code",
   "execution_count": null,
   "metadata": {},
   "outputs": [],
   "source": [
    "pip install upgrade selenium"
   ]
  },
  {
   "cell_type": "code",
   "execution_count": null,
   "metadata": {},
   "outputs": [],
   "source": [
    "from selenium import webdriver\n",
    "from selenium.webdriver.chrome.service import Service\n",
    "from selenium.webdriver.chrome.options import Options\n",
    "import time\n",
    "import os\n",
    "import re\n",
    "\n",
    "websites = [   \n",
    "   \"https://aithor.com/\",\n",
    "    \"https://undetectable.ai/\",\n",
    "    \"https://spinbot.com\",\n",
    "    \"https://csgenerator.com\",\n",
    "]\n",
    "\n",
    "save_path = \"Screenshots/WRITING\"\n",
    "os.makedirs(save_path, exist_ok=True)\n",
    "\n",
    "width = 1382\n",
    "height = 915\n",
    "\n",
    "chrome_options = Options()\n",
    "chrome_options.add_argument(f\"--window-size={width},{height}\")\n",
    "chrome_options.add_argument(\"--headless\")\n",
    "chrome_options.add_argument(\"--force-device-scale-factor=1\")  # Force scale factor\n",
    "chrome_options.add_argument(\"--headless=new\")  # Use new headless mode\n",
    "\n",
    "driver_path = \"chromedriver-win64/chromedriver.exe\"\n",
    "\n",
    "# Initialize WebDriver\n",
    "service = Service(driver_path)\n",
    "driver = webdriver.Chrome(service=service, options=chrome_options)\n",
    "\n",
    "# Ensure the window size is set explicitly\n",
    "driver.set_window_size(width, height)\n",
    "\n",
    "def extract_domain_name(url):\n",
    "    \"\"\" Extracts the domain name from a URL and formats it for use as a filename. \"\"\"\n",
    "    # Remove \"https://\", \"www.\", and split by the first \"/\"\n",
    "    domain = re.sub(r\"^(https?://)?(www\\.)?\", \"\", url)\n",
    "    domain = domain.split(\"/\")[0]  # Get the domain part\n",
    "    domain = domain.lower()  # Convert to lowercase\n",
    "    return domain\n",
    "\n",
    "# Loop through each website and take a screenshot\n",
    "for index, url in enumerate(websites):\n",
    "    try:\n",
    "        driver.get(url)\n",
    "        time.sleep(3)  # Wait for the page to load\n",
    "        \n",
    "        # Extract the domain name and sanitize it\n",
    "        domain_name = extract_domain_name(url)\n",
    "        \n",
    "        # Create the screenshot filename\n",
    "        screenshot_filename = os.path.join(save_path, f\"{domain_name}.png\")\n",
    "        \n",
    "        # Save the screenshot\n",
    "        driver.save_screenshot(screenshot_filename)\n",
    "        print(f\"Saved screenshot: {screenshot_filename}\")\n",
    "    except Exception as e:\n",
    "        print(f\"Error capturing {url}: {e}\")\n",
    "\n",
    "driver.quit()"
   ]
  }
 ],
 "metadata": {
  "kernelspec": {
   "display_name": "Python 3",
   "language": "python",
   "name": "python3"
  },
  "language_info": {
   "name": "python",
   "version": "3.12.6"
  }
 },
 "nbformat": 4,
 "nbformat_minor": 2
}
